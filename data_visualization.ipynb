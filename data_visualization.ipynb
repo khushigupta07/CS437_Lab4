{
 "cells": [
  {
   "cell_type": "code",
   "execution_count": null,
   "id": "cb73c637-68cf-4617-940b-eb8cf781fb0c",
   "metadata": {},
   "outputs": [],
   "source": [
    "!pip install pyathena"
   ]
  },
  {
   "cell_type": "code",
   "execution_count": null,
   "id": "9dac8beb-e37a-4a84-b1b7-79df228ce9f8",
   "metadata": {},
   "outputs": [],
   "source": [
    "import pandas as pd\n",
    "import matplotlib.pyplot as plt\n",
    "import boto3\n",
    "from pyathena import connect\n",
    "\n",
    "# Establish connection to Athena\n",
    "conn = connect(s3_staging_dir='s3://mylesathenaresults/', region_name='us-west-2')\n",
    "\n",
    "# Query Athena\n",
    "query = 'SELECT device_id, data.vehicle_CO2  FROM vehicledatabase.lab4data_mylesai2'\n",
    "df = pd.read_sql(query, conn)\n",
    "print(\"Column names in the DataFrame:\", df.columns)\n"
   ]
  }
 ],
 "metadata": {
  "kernelspec": {
   "display_name": "conda_python3",
   "language": "python",
   "name": "conda_python3"
  },
  "language_info": {
   "codemirror_mode": {
    "name": "ipython",
    "version": 3
   },
   "file_extension": ".py",
   "mimetype": "text/x-python",
   "name": "python",
   "nbconvert_exporter": "python",
   "pygments_lexer": "ipython3",
   "version": "3.10.16"
  }
 },
 "nbformat": 4,
 "nbformat_minor": 5
}
